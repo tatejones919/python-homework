{
 "cells": [
  {
   "cell_type": "code",
   "execution_count": 40,
   "id": "interior-armstrong",
   "metadata": {},
   "outputs": [
    {
     "name": "stdout",
     "output_type": "stream",
     "text": [
      "Financial Analysis\n",
      "Total Months: 86\n",
      "Total: $38382578\n",
      "Average Change: $-2315.1176470588234\n"
     ]
    }
   ],
   "source": [
    "import pandas as pd\n",
    "\n",
    "df = pd.read_csv('Homework_02-Python_Instructions_PyBank_Resources_budget_data.csv')\n",
    "\n",
    "print(\"Financial Analysis\")\n",
    "\n",
    "total_months = len(df)\n",
    "print(f\"Total Months: {total_months}\")\n",
    "\n",
    "total = 0\n",
    "for item in df['Profit/Losses']:\n",
    "    total += item\n",
    "print(f'Total: ${total}')\n",
    "\n",
    "change = []\n",
    "\n",
    "for i in range(1,total_months):\n",
    "    change.append(df['Profit/Losses'][i]-df['Profit/Losses'][i-1])\n",
    "average_change = sum(change)/len(change)\n",
    "print(f'Average Change: ${average_change}')\n"
   ]
  },
  {
   "cell_type": "code",
   "execution_count": null,
   "id": "external-think",
   "metadata": {},
   "outputs": [],
   "source": []
  }
 ],
 "metadata": {
  "kernelspec": {
   "display_name": "Python 3",
   "language": "python",
   "name": "python3"
  },
  "language_info": {
   "codemirror_mode": {
    "name": "ipython",
    "version": 3
   },
   "file_extension": ".py",
   "mimetype": "text/x-python",
   "name": "python",
   "nbconvert_exporter": "python",
   "pygments_lexer": "ipython3",
   "version": "3.8.5"
  }
 },
 "nbformat": 4,
 "nbformat_minor": 5
}
