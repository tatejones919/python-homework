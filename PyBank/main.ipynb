{
 "cells": [
  {
   "cell_type": "code",
   "execution_count": 60,
   "id": "entire-deputy",
   "metadata": {},
   "outputs": [
    {
     "name": "stdout",
     "output_type": "stream",
     "text": [
      "Financial Analysis\n",
      "------------\n",
      "Total Months: 86\n",
      "Total: $38382578\n",
      "Average Change: $-2288.2\n",
      "Greatest Increase in Profit: 2012-02-01 00:00:00 $1926159.0\n",
      "Greatest Decrease in Profit: 2013-09-01 00:00:00 $-2196167.0\n"
     ]
    }
   ],
   "source": [
    "import pandas as pd\n",
    "\n",
    "df = pd.read_csv('Homework_02-Python_Instructions_PyBank_Resources_budget_data.csv')\n",
    "\n",
    "print(\"Financial Analysis\")\n",
    "print(\"------------\")\n",
    "\n",
    "total_months = len(df)\n",
    "print(f\"Total Months: {total_months}\")\n",
    "\n",
    "total = 0\n",
    "for item in df['Profit/Losses']:\n",
    "    total += item\n",
    "print(f'Total: ${total}')\n",
    "\n",
    "df.set_index(pd.to_datetime(df['Date'], infer_datetime_format=True), inplace=True)\n",
    "df.drop(columns=['Date'], inplace=True)\n",
    "\n",
    "pct_change = df.pct_change()\n",
    "\n",
    "monthly_dif = df.diff()\n",
    "monthly_dif = monthly_dif['Profit/Losses'].fillna(0)\n",
    "average_daily_return = monthly_dif.sum()/total_months\n",
    "print(f'Average Change: ${round(average_daily_return, 2)}')\n",
    "\n",
    "max_return = monthly_dif.max()\n",
    "max_return_index = monthly_dif.idxmax()\n",
    "print(f'Greatest Increase in Profit: {max_return_index} ${max_return}')\n",
    "\n",
    "\n",
    "min_return = monthly_dif.min()\n",
    "min_return_index = monthly_dif.idxmin()\n",
    "print(f'Greatest Decrease in Profit: {min_return_index} ${min_return}')\n",
    "\n"
   ]
  },
  {
   "cell_type": "code",
   "execution_count": null,
   "id": "tender-opportunity",
   "metadata": {},
   "outputs": [],
   "source": []
  }
 ],
 "metadata": {
  "kernelspec": {
   "display_name": "Python 3",
   "language": "python",
   "name": "python3"
  },
  "language_info": {
   "codemirror_mode": {
    "name": "ipython",
    "version": 3
   },
   "file_extension": ".py",
   "mimetype": "text/x-python",
   "name": "python",
   "nbconvert_exporter": "python",
   "pygments_lexer": "ipython3",
   "version": "3.8.5"
  }
 },
 "nbformat": 4,
 "nbformat_minor": 5
}
